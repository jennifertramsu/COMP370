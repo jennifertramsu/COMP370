{
 "cells": [
  {
   "cell_type": "markdown",
   "metadata": {},
   "source": [
    "# Assignment 1: Mini Data Science Project\n",
    "Jennifer Tram Su [260923530]"
   ]
  },
  {
   "cell_type": "code",
   "execution_count": 3,
   "metadata": {},
   "outputs": [],
   "source": [
    "# Importing librairies\n",
    "import pandas as pd"
   ]
  },
  {
   "cell_type": "markdown",
   "metadata": {},
   "source": [
    "## Data Collection"
   ]
  },
  {
   "cell_type": "code",
   "execution_count": null,
   "metadata": {},
   "outputs": [],
   "source": [
    "# Loading data\n",
    "df = pd.read_csv('https://raw.githubusercontent.com/fivethirtyeight/russian-troll-tweets/master/IRAhandle_tweets_1.csv')\n",
    "print(df.head())"
   ]
  },
  {
   "cell_type": "code",
   "execution_count": null,
   "metadata": {},
   "outputs": [],
   "source": [
    "print(df.columns)"
   ]
  },
  {
   "cell_type": "code",
   "execution_count": null,
   "metadata": {},
   "outputs": [],
   "source": [
    "# Keep first 10000 tweets\n",
    "df_trun = df[:10000]\n",
    "print('Length:', len(df)==len(df_trun))\n",
    "\n",
    "# Keep English and No Questions\n",
    "df_eng = df_trun[df_trun['language'] == 'English']\n",
    "print('Languages Present:', df_eng['language'].unique())\n",
    "\n",
    "# No Questions\n",
    "df_filtered = df_eng[df_eng['content'].str.contains('?', regex=False)==False]\n",
    "print('Questions Present:', set(['?' in b for b in df_filtered['content'].values]))\n",
    "\n",
    "# Save to new file\n",
    "df_filtered.to_csv('raw_dataset.tsv', sep='\\t')"
   ]
  },
  {
   "cell_type": "markdown",
   "metadata": {},
   "source": [
    "## Data Annotation"
   ]
  },
  {
   "cell_type": "code",
   "execution_count": 20,
   "metadata": {},
   "outputs": [],
   "source": [
    "# Open new dataset\n",
    "df_new = pd.read_csv('raw_dataset.tsv', sep='\\t', index_col=[0])\n",
    "\n",
    "# Feature: trump_mention\n",
    "df_new['trump_mention'] = df_new['content'].str.contains('[^a-zA-Z\\d\\s]Trump ') | df_new['content'].str.contains(' Trump ') | df_new['content'].str.contains(' Trump[^a-zA-Z\\d\\s]') | df_new['content'].str.contains('[^a-zA-Z\\d\\s]Trump[^a-zA-Z\\d\\s]') | df_new['content'].str.contains('^Trump ') | df_new['content'].str.contains('^Trump[^a-zA-Z\\d\\s]')\n",
    "\n",
    "dataset = df_new[['tweet_id', 'publish_date', 'content', 'trump_mention']]\n",
    "\n",
    "dataset.to_csv('dataset.tsv', sep='\\t')"
   ]
  },
  {
   "cell_type": "markdown",
   "metadata": {},
   "source": [
    "## Analysis"
   ]
  },
  {
   "cell_type": "code",
   "execution_count": 27,
   "metadata": {},
   "outputs": [],
   "source": [
    "df_trump = pd.read_csv('dataset.tsv', sep='\\t', index_col=[0])\n",
    "num_true = len(df_trump[df_trump['trump_mention'] == True])\n",
    "num_false = len(df_trump[df_trump['trump_mention'] == False])\n",
    "\n",
    "mention = num_true / (num_true + num_false)\n",
    "mention = round(mention, 3)\n",
    "\n",
    "results = pd.DataFrame({'result':['frac-trump-mentions'], 'value':[mention]})\n",
    "results.to_csv('results.tsv', sep='\\t')"
   ]
  }
 ],
 "metadata": {
  "kernelspec": {
   "display_name": "datascience",
   "language": "python",
   "name": "python3"
  },
  "language_info": {
   "codemirror_mode": {
    "name": "ipython",
    "version": 3
   },
   "file_extension": ".py",
   "mimetype": "text/x-python",
   "name": "python",
   "nbconvert_exporter": "python",
   "pygments_lexer": "ipython3",
   "version": "3.11.5"
  },
  "orig_nbformat": 4
 },
 "nbformat": 4,
 "nbformat_minor": 2
}
