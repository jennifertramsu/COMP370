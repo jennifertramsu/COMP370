{
 "cells": [
  {
   "cell_type": "markdown",
   "metadata": {},
   "source": [
    "# Assignment 1: Mini Data Science Project\n",
    "Jennifer Tram Su [260923530]"
   ]
  },
  {
   "cell_type": "code",
   "execution_count": 1,
   "metadata": {},
   "outputs": [],
   "source": [
    "# Importing librairies\n",
    "import pandas as pd"
   ]
  },
  {
   "cell_type": "markdown",
   "metadata": {},
   "source": [
    "## Data Collection"
   ]
  },
  {
   "cell_type": "code",
   "execution_count": 2,
   "metadata": {},
   "outputs": [
    {
     "name": "stdout",
     "output_type": "stream",
     "text": [
      "   external_author_id  author  \\\n",
      "0  906000000000000000  10_GOP   \n",
      "1  906000000000000000  10_GOP   \n",
      "2  906000000000000000  10_GOP   \n",
      "3  906000000000000000  10_GOP   \n",
      "4  906000000000000000  10_GOP   \n",
      "\n",
      "                                             content   region language  \\\n",
      "0  \"We have a sitting Democrat US Senator on tria...  Unknown  English   \n",
      "1  Marshawn Lynch arrives to game in anti-Trump s...  Unknown  English   \n",
      "2  Daughter of fallen Navy Sailor delivers powerf...  Unknown  English   \n",
      "3  JUST IN: President Trump dedicates Presidents ...  Unknown  English   \n",
      "4  19,000 RESPECTING our National Anthem! #StandF...  Unknown  English   \n",
      "\n",
      "      publish_date   harvested_date  following  followers  updates  ...  \\\n",
      "0  10/1/2017 19:58  10/1/2017 19:59       1052       9636      253  ...   \n",
      "1  10/1/2017 22:43  10/1/2017 22:43       1054       9637      254  ...   \n",
      "2  10/1/2017 22:50  10/1/2017 22:51       1054       9637      255  ...   \n",
      "3  10/1/2017 23:52  10/1/2017 23:52       1062       9642      256  ...   \n",
      "4   10/1/2017 2:13   10/1/2017 2:13       1050       9645      246  ...   \n",
      "\n",
      "  account_type retweet  account_category new_june_2018     alt_external_id  \\\n",
      "0        Right       0        RightTroll             0  905874659358453760   \n",
      "1        Right       0        RightTroll             0  905874659358453760   \n",
      "2        Right       1        RightTroll             0  905874659358453760   \n",
      "3        Right       0        RightTroll             0  905874659358453760   \n",
      "4        Right       1        RightTroll             0  905874659358453760   \n",
      "\n",
      "             tweet_id                                        article_url  \\\n",
      "0  914580356430536707  http://twitter.com/905874659358453760/statuses...   \n",
      "1  914621840496189440  http://twitter.com/905874659358453760/statuses...   \n",
      "2  914623490375979008  http://twitter.com/905874659358453760/statuses...   \n",
      "3  914639143690555392  http://twitter.com/905874659358453760/statuses...   \n",
      "4  914312219952861184  http://twitter.com/905874659358453760/statuses...   \n",
      "\n",
      "                                          tco1_step1 tco2_step1 tco3_step1  \n",
      "0  https://twitter.com/10_gop/status/914580356430...        NaN        NaN  \n",
      "1  https://twitter.com/damienwoody/status/9145685...        NaN        NaN  \n",
      "2  https://twitter.com/10_gop/status/913231923715...        NaN        NaN  \n",
      "3  https://twitter.com/10_gop/status/914639143690...        NaN        NaN  \n",
      "4  https://twitter.com/realDonaldTrump/status/914...        NaN        NaN  \n",
      "\n",
      "[5 rows x 21 columns]\n"
     ]
    }
   ],
   "source": [
    "# Loading data\n",
    "df = pd.read_csv('https://raw.githubusercontent.com/fivethirtyeight/russian-troll-tweets/master/IRAhandle_tweets_1.csv')\n",
    "print(df.head())"
   ]
  },
  {
   "cell_type": "code",
   "execution_count": 3,
   "metadata": {},
   "outputs": [
    {
     "name": "stdout",
     "output_type": "stream",
     "text": [
      "Index(['external_author_id', 'author', 'content', 'region', 'language',\n",
      "       'publish_date', 'harvested_date', 'following', 'followers', 'updates',\n",
      "       'post_type', 'account_type', 'retweet', 'account_category',\n",
      "       'new_june_2018', 'alt_external_id', 'tweet_id', 'article_url',\n",
      "       'tco1_step1', 'tco2_step1', 'tco3_step1'],\n",
      "      dtype='object')\n"
     ]
    }
   ],
   "source": [
    "print(df.columns)"
   ]
  },
  {
   "cell_type": "code",
   "execution_count": 4,
   "metadata": {},
   "outputs": [
    {
     "name": "stdout",
     "output_type": "stream",
     "text": [
      "Length: False\n",
      "Languages Present: ['English']\n",
      "Questions Present: {False}\n"
     ]
    }
   ],
   "source": [
    "# Keep first 10000 tweets\n",
    "df_trun = df[:10000]\n",
    "print('Length:', len(df)==len(df_trun))\n",
    "\n",
    "# Keep English and No Questions\n",
    "df_eng = df_trun[df_trun['language'] == 'English']\n",
    "print('Languages Present:', df_eng['language'].unique())\n",
    "\n",
    "# No Questions\n",
    "df_filtered = df_eng[df_eng['content'].str.contains('?', regex=False)==False]\n",
    "print('Questions Present:', set(['?' in b for b in df_filtered['content'].values]))\n",
    "\n",
    "# Save to new file\n",
    "df_filtered.to_csv('raw_dataset.tsv', sep='\\t')"
   ]
  },
  {
   "cell_type": "markdown",
   "metadata": {},
   "source": [
    "## Data Annotation"
   ]
  },
  {
   "cell_type": "code",
   "execution_count": 17,
   "metadata": {},
   "outputs": [],
   "source": [
    "# Open new dataset\n",
    "df_new = pd.read_csv('raw_dataset.tsv', sep='\\t', index_col=[0])\n",
    "\n",
    "# Feature: trump_mention\n",
    "#df_new['trump_mention'] = df_new['content'].str.contains('[^a-zA-Z\\d\\s]Trump ') | df_new['content'].str.contains(' Trump ') | df_new['content'].str.contains(' Trump[^a-zA-Z\\d\\s]') | df_new['content'].str.contains('[^a-zA-Z\\d\\s]Trump[^a-zA-Z\\d\\s]') | df_new['content'].str.contains('^Trump ') | df_new['content'].str.contains('^Trump[^a-zA-Z\\d\\s]')\n",
    "df_new['trump_mention'] = df_new['content'].str.contains('^.*[^A-z0-9]Trump[^A-z0-9].*$')\n",
    "\n",
    "dataset = df_new[['tweet_id', 'publish_date', 'content', 'trump_mention']]\n",
    "\n",
    "dataset.to_csv('dataset.tsv', sep='\\t')"
   ]
  },
  {
   "cell_type": "markdown",
   "metadata": {},
   "source": [
    "## Analysis"
   ]
  },
  {
   "cell_type": "code",
   "execution_count": 18,
   "metadata": {},
   "outputs": [
    {
     "name": "stdout",
     "output_type": "stream",
     "text": [
      "0.022\n"
     ]
    }
   ],
   "source": [
    "df_trump = pd.read_csv('dataset.tsv', sep='\\t', index_col=[0])\n",
    "num_true = len(df_trump[df_trump['trump_mention'] == True])\n",
    "num_false = len(df_trump[df_trump['trump_mention'] == False])\n",
    "\n",
    "mention = num_true / (num_true + num_false)\n",
    "mention = round(mention, 3)\n",
    "print(mention)\n",
    "\n",
    "results = pd.DataFrame({'result':['frac-trump-mentions'], 'value':[mention]})\n",
    "results.to_csv('results.tsv', sep='\\t')"
   ]
  }
 ],
 "metadata": {
  "kernelspec": {
   "display_name": "datascience",
   "language": "python",
   "name": "python3"
  },
  "language_info": {
   "codemirror_mode": {
    "name": "ipython",
    "version": 3
   },
   "file_extension": ".py",
   "mimetype": "text/x-python",
   "name": "python",
   "nbconvert_exporter": "python",
   "pygments_lexer": "ipython3",
   "version": "3.11.5"
  },
  "orig_nbformat": 4
 },
 "nbformat": 4,
 "nbformat_minor": 2
}
